{
 "cells": [
  {
   "cell_type": "code",
   "execution_count": 13,
   "metadata": {},
   "outputs": [],
   "source": [
    "# Add adjustments \n",
    "\n",
    "import pandas as pd\n",
    "import numpy as np\n",
    "import random\n",
    "import statistics\n",
    "from sklearn.linear_model import LinearRegression\n",
    "import time\n",
    "from sklearn import linear_model\n",
    "import statsmodels.api as sm\n",
    "import statistics as stats\n",
    "\n",
    "from Metrics import Metrics\n",
    "\n",
    "data = pd.read_excel(\"C:\\\\Users\\\\1roks\\\\Documents\\\\FMF\\Matematika z računalnikom\\\\Project\\\\Data\\\\Final data\\\\Final_data.xlsx\")\n",
    "# Izberi nakjlučni vzorec velikosti 300\n",
    "\n",
    "# Clean sample\n",
    "\n",
    "data_test = data[data.Train_test_identificator == \"test\"]\n",
    "data_train = data[data.Train_test_identificator == \"train\"]\n",
    "\n",
    "\n",
    "\n",
    "def add_adjustments(modeling_results):\n",
    "    \n",
    "    \n",
    "    # Univariatna linearna regresija\n",
    "    \n",
    "    # Odfiltriraj robne cene\n",
    "\n",
    "    min_cena = data_train[\"cena\"].quantile(0.1)\n",
    "    max_cena = data_train[\"cena\"].quantile(0.9)\n",
    "    data_train_for_univariate_linear_regression = data_train[(data_train.cena > min_cena) &  (data_train.cena < max_cena) ]\n",
    "\n",
    "\n",
    "    # Fit starost\n",
    "\n",
    "    data_train_for_multivariate_linear_regression_starost = data_train_for_univariate_linear_regression.dropna(subset=['starost'])\n",
    "\n",
    "    X_starost = data_train_for_multivariate_linear_regression_starost[['starost']] # here we have 2 variables for multiple regression. If you just want to use one variable for simple linear regression, then use X = df['Interest_Rate'] for example.Alternatively, you may add additional variables within the brackets\n",
    "    Y_starost = data_train_for_multivariate_linear_regression_starost['cena']\n",
    "\n",
    "    regr_starost  = linear_model.LinearRegression()\n",
    "    regr_starost.fit(X_starost, Y_starost)\n",
    "\n",
    "    # Fit prevozeni_km\n",
    "\n",
    "    data_train_for_multivariate_linear_regression_prevozeni_km = data_train_for_univariate_linear_regression.dropna(subset=['prevozeni_km'])\n",
    "\n",
    "    X_prevozeni_km = data_train_for_multivariate_linear_regression_prevozeni_km[['prevozeni_km']] # here we have 2 variables for multiple regression. If you just want to use one variable for simple linear regression, then use X = df['Interest_Rate'] for example.Alternatively, you may add additional variables within the brackets\n",
    "    Y_prevozeni_km = data_train_for_multivariate_linear_regression_prevozeni_km['cena']\n",
    "\n",
    "    regr_prevozeni_km  = linear_model.LinearRegression()\n",
    "    regr_prevozeni_km.fit(X_prevozeni_km, Y_prevozeni_km)\n",
    "\n",
    "    # Fit ccm_class\n",
    "\n",
    "    data_train_for_multivariate_linear_regression_ccm_class = data_train_for_univariate_linear_regression.dropna(subset=['ccm_class'])\n",
    "\n",
    "    X_ccm_class = data_train_for_multivariate_linear_regression_ccm_class[['ccm_class']] # here we have 2 variables for multiple regression. If you just want to use one variable for simple linear regression, then use X = df['Interest_Rate'] for example.Alternatively, you may add additional variables within the brackets\n",
    "    Y_ccm_class = data_train_for_multivariate_linear_regression_ccm_class['cena']\n",
    "\n",
    "    regr_ccm_class  = linear_model.LinearRegression()\n",
    "    regr_ccm_class.fit(X_ccm_class, Y_ccm_class)\n",
    "\n",
    "\n",
    "    adjusted_ocene = []\n",
    "    adjusted_prices_vse = []\n",
    "\n",
    "    for i in range(0,len(modeling_results.index)):\n",
    "        string = modeling_results[\"IDS_of_top_k_matches\"].values[i][1:-1]\n",
    "        words = []\n",
    "        word = \"\"\n",
    "        for s in string:\n",
    "            if s == \" \":\n",
    "                try:\n",
    "                    copy_of_word = int(word)\n",
    "                    words.append(int(copy_of_word))\n",
    "                    word = \"\"\n",
    "                except:\n",
    "                    a=1\n",
    "            else:\n",
    "                word = word + s\n",
    "                int(word)\n",
    "\n",
    "        copy_of_word = int(word)\n",
    "        words.append(int(copy_of_word))\n",
    "\n",
    "        adjusted_prices = []\n",
    "\n",
    "        for w in words:\n",
    "            Comparable_data = data_train[data_train.ID == w]\n",
    "            Main_data = data_test[data_test.ID == modeling_results[\"ID\"].values[i]]\n",
    "\n",
    "            # Code above is irrelevant but needed\n",
    "\n",
    "            # Now we have the main and the comparable cars\n",
    "            # We predict the values using the linear multivariate regression\n",
    "\n",
    "            starost_main = Main_data[\"starost\"].values[0]\n",
    "            prevozeni_km_main = Main_data[\"prevozeni_km\"].values[0]\n",
    "            ccm_class_main = Main_data[\"ccm_class\"].values[0]\n",
    "\n",
    "\n",
    "            starost_comp = Comparable_data[\"starost\"].values[0]\n",
    "            prevozeni_km_comp = Comparable_data[\"prevozeni_km\"].values[0]\n",
    "            ccm_class_comp =  Comparable_data[\"ccm_class\"].values[0]\n",
    "\n",
    "\n",
    "            # Ker imamo nekatere mankajoče vrednosti pri comparablih nemorremo pri vseh spremeniti ocen\n",
    "\n",
    "\n",
    "            try:\n",
    "                 # Prediction for main startost\n",
    "\n",
    "                prediction_main = regr_starost.predict([[starost_main]])[0]\n",
    "\n",
    "                # Prediction comp starost\n",
    "\n",
    "                prediction_comp = regr_starost.predict([[starost_comp]])[0]\n",
    "\n",
    "                # Adjustment is going to be equal to the relative difference between the predictions\n",
    "\n",
    "                adjustment = (prediction_main-prediction_comp) / prediction_comp\n",
    "\n",
    "                adjusted_price = (1 +adjustment) * Comparable_data[\"cena\"].values[0]\n",
    "\n",
    "            except ValueError:\n",
    "                # Če regresije ne moremo opraviti za adjusted price vzamemo kar orignalno ceno\n",
    "                adjusted_price = Comparable_data[\"cena\"].values[0]\n",
    "\n",
    "            try:\n",
    "                 # Prediction for main prevozeni_km \n",
    "\n",
    "                prediction_main = regr_prevozeni_km.predict([[prevozeni_km_main]])[0]\n",
    "\n",
    "                # Prediction comp prevozeni km\n",
    "\n",
    "                prediction_comp = regr_prevozeni_km.predict([[prevozeni_km_comp]])[0]\n",
    "\n",
    "                # Adjustment is going to be equal to the relative difference between the predictions\n",
    "\n",
    "                adjustment = (prediction_main-prediction_comp) / prediction_comp\n",
    "\n",
    "                adjusted_price = (1 +adjustment) * adjusted_price\n",
    "\n",
    "            except ValueError:\n",
    "                # Če regresije ne moremo opraviti za adjusted price vzamemo kar prejšnjo oceno\n",
    "                adjusted_price = adjusted_price\n",
    "\n",
    "\n",
    "            try:\n",
    "                 # Prediction for main ccm class\n",
    "\n",
    "                prediction_main = regr_prevozeni_km.predict([[ccm_class_main]])[0]\n",
    "\n",
    "                # Prediction comp ccm c las\n",
    "\n",
    "                prediction_comp = regr_prevozeni_km.predict([[ccm_class_comp]])[0]\n",
    "\n",
    "                # Adjustment is going to be equal to the relative difference between the predictions\n",
    "\n",
    "                adjustment = (prediction_main-prediction_comp) / prediction_comp\n",
    "\n",
    "                adjusted_price = (1 +adjustment) * adjusted_price\n",
    "\n",
    "            except ValueError:\n",
    "                # Če regresije ne moremo opraviti za adjusted price vzamemo kar prejšnjo oceno\n",
    "                adjusted_price = adjusted_price\n",
    "\n",
    "\n",
    "            adjusted_prices.append(adjusted_price)\n",
    "\n",
    "\n",
    "        adjusted_prices = [float(i) for i in adjusted_prices]\n",
    "        adjusted_ocena = stats.mean(adjusted_prices)\n",
    "\n",
    "        adjusted_prices_vse.append(adjusted_prices)\n",
    "        adjusted_ocene.append(adjusted_ocena)\n",
    "\n",
    "    modeling_results[\"Adjusted_prices_z_univariatno_regresijo\"] = adjusted_prices_vse\n",
    "    modeling_results[\"ocena_z_univariatno_regresijo\"] = adjusted_ocene\n",
    "    \n",
    "\n",
    "    \n",
    "    \n",
    "    # Multivariatna linearna regresija\n",
    "\n",
    "    # Odfiltriraj robne cene\n",
    "    min_cena = data_train[\"cena\"].quantile(0.1)\n",
    "    max_cena = data_train[\"cena\"].quantile(0.9)\n",
    "    data_train_for_multivariate_linear_regression = data_train[(data_train.cena > min_cena) &  (data_train.cena < max_cena) ]\n",
    "\n",
    "    # Drop missing values\n",
    "    data_train_for_multivariate_linear_regression = data_train_for_multivariate_linear_regression.dropna(subset=['starost','prevozeni_km', \"ccm_class\"])\n",
    "\n",
    "    # Fit multivariate linear regression model\n",
    "\n",
    "    X = data_train_for_multivariate_linear_regression[['starost','prevozeni_km', \"ccm_class\"]] # here we have 2 variables for multiple regression. If you just want to use one variable for simple linear regression, then use X = df['Interest_Rate'] for example.Alternatively, you may add additional variables within the brackets\n",
    "    Y = data_train_for_multivariate_linear_regression['cena']\n",
    "\n",
    "    # with sklearn\n",
    "    regr = linear_model.LinearRegression()\n",
    "    regr.fit(X, Y)\n",
    "\n",
    "\n",
    "    adjusted_ocene = []\n",
    "    adjusted_prices_vse = []\n",
    "\n",
    "    for i in range(0,len(modeling_results.index)):\n",
    "        string = modeling_results[\"IDS_of_top_k_matches\"].values[i][1:-1]\n",
    "        words = []\n",
    "        word = \"\"\n",
    "        for s in string:\n",
    "            if s == \" \":\n",
    "                try:\n",
    "                    copy_of_word = int(word)\n",
    "                    words.append(int(copy_of_word))\n",
    "                    word = \"\"\n",
    "                except:\n",
    "                    a=1\n",
    "            else:\n",
    "                word = word + s\n",
    "                int(word)\n",
    "\n",
    "        copy_of_word = int(word)\n",
    "        words.append(int(copy_of_word))\n",
    "\n",
    "        adjusted_prices = []\n",
    "\n",
    "        for w in words:\n",
    "            Comparable_data = data_train[data_train.ID == w]\n",
    "            Main_data = data_test[data_test.ID == modeling_results[\"ID\"].values[i]]\n",
    "\n",
    "            # Code above is irrelevant but needed\n",
    "\n",
    "            # Now we have the main and the comparable cars\n",
    "            # We predict the values using the linear multivariate regression\n",
    "\n",
    "            starost_main = Main_data[\"starost\"].values[0]\n",
    "            prevozeni_km_main = Main_data[\"prevozeni_km\"].values[0]\n",
    "            ccm_class_main = Main_data[\"ccm_class\"].values[0]\n",
    "\n",
    "\n",
    "            starost_comp = Comparable_data[\"starost\"].values[0]\n",
    "            prevozeni_km_comp = Comparable_data[\"prevozeni_km\"].values[0]\n",
    "            ccm_class_comp =  Comparable_data[\"ccm_class\"].values[0]\n",
    "\n",
    "\n",
    "            # Ker imamo nekatere mankajoče vrednosti pri comparablih nemorremo pri vseh spremeniti ocene\n",
    "            # Prediction for main\n",
    "            \n",
    "            try:\n",
    "                prediction_main = regr.predict([[starost_main,prevozeni_km_main,ccm_class_main]])[0]\n",
    "\n",
    "                # Prediction comp\n",
    "\n",
    "                prediction_comp = regr.predict([[starost_comp,prevozeni_km_comp,ccm_class_comp]])[0]\n",
    "\n",
    "                # Adjustment is going to be equal to the relative difference between the predictions\n",
    "\n",
    "                adjustment = (prediction_main-prediction_comp) / prediction_comp\n",
    "\n",
    "                adjusted_price = (1 +adjustment) * Comparable_data[\"cena\"].values[0]\n",
    "\n",
    "                adjusted_prices.append(adjusted_price)\n",
    "            except ValueError:\n",
    "                # Če regresije ne moremo opraviti za adjusted price vzamemo kar orignalno ceno\n",
    "                adjusted_price = Comparable_data[\"cena\"].values[0]\n",
    "                adjusted_prices.append(adjusted_price)\n",
    "\n",
    "\n",
    "        adjusted_prices = [float(i) for i in adjusted_prices]\n",
    "        adjusted_ocena = stats.mean(adjusted_prices)\n",
    "\n",
    "        adjusted_prices_vse.append(adjusted_prices)\n",
    "        adjusted_ocene.append(adjusted_ocena)\n",
    "        \n",
    "        \n",
    "\n",
    "    modeling_results[\"Adjusted_prices_z_multivariatno_regresijo\"] = list(adjusted_prices_vse)\n",
    "    modeling_results[\"ocena_z_multivariatno_regresijo\"] = list(adjusted_ocene)\n",
    "    \n",
    "    # Multivariatna regresija z vključeno razvrstitev znamke\n",
    "    \n",
    "\n",
    "    # Odfiltriraj robne cene\n",
    "    min_cena = data_train[\"cena\"].quantile(0.1)\n",
    "    max_cena = data_train[\"cena\"].quantile(0.9)\n",
    "    data_train_for_multivariate_linear_regression = data_train[(data_train.cena > min_cena) &  (data_train.cena < max_cena) ]\n",
    "\n",
    "    # Drop missing values\n",
    "    data_train_for_multivariate_linear_regression = data_train_for_multivariate_linear_regression.dropna(subset=['starost','prevozeni_km', \"ccm_class\"])\n",
    "\n",
    "    # Fit multivariate linear regression model\n",
    "\n",
    "    X = data_train_for_multivariate_linear_regression[['starost','prevozeni_km', \"razvrstitev_povprecne_cene_po_tipu\"]] # here we have 2 variables for multiple regression. If you just want to use one variable for simple linear regression, then use X = df['Interest_Rate'] for example.Alternatively, you may add additional variables within the brackets\n",
    "    Y = data_train_for_multivariate_linear_regression['cena']\n",
    "\n",
    "    # with sklearn\n",
    "    regr2 = linear_model.LinearRegression()\n",
    "    regr2.fit(X, Y)\n",
    "\n",
    "\n",
    "    adjusted_ocene = []\n",
    "    adjusted_prices_vse = []\n",
    "\n",
    "    for i in range(0,len(modeling_results.index)):\n",
    "        string = modeling_results[\"IDS_of_top_k_matches\"].values[i][1:-1]\n",
    "        words = []\n",
    "        word = \"\"\n",
    "        for s in string:\n",
    "            if s == \" \":\n",
    "                try:\n",
    "                    copy_of_word = int(word)\n",
    "                    words.append(int(copy_of_word))\n",
    "                    word = \"\"\n",
    "                except:\n",
    "                    a=1\n",
    "            else:\n",
    "                word = word + s\n",
    "                int(word)\n",
    "\n",
    "        copy_of_word = int(word)\n",
    "        words.append(int(copy_of_word))\n",
    "\n",
    "        adjusted_prices = []\n",
    "\n",
    "        for w in words:\n",
    "            Comparable_data = data_train[data_train.ID == w]\n",
    "            Main_data = data_test[data_test.ID == modeling_results[\"ID\"].values[i]]\n",
    "\n",
    "            # Code above is irrelevant but needed\n",
    "\n",
    "            # Now we have the main and the comparable cars\n",
    "            # We predict the values using the linear multivariate regression\n",
    "\n",
    "            starost_main = Main_data[\"starost\"].values[0]\n",
    "            prevozeni_km_main = Main_data[\"prevozeni_km\"].values[0]\n",
    "            ccm_class_main = Main_data[\"ccm_class\"].values[0]\n",
    "            ranking_main = Main_data[\"razvrstitev_povprecne_cene_po_tipu\"].values[0]\n",
    "\n",
    "\n",
    "            starost_comp = Comparable_data[\"starost\"].values[0]\n",
    "            prevozeni_km_comp = Comparable_data[\"prevozeni_km\"].values[0]\n",
    "            ccm_class_comp =  Comparable_data[\"ccm_class\"].values[0]\n",
    "            ranking_com = Comparable_data[\"razvrstitev_povprecne_cene_po_tipu\"].values[0]\n",
    "\n",
    "\n",
    "            # Ker imamo nekatere mankajoče vrednosti pri comparablih nemorremo pri vseh spremeniti ocene\n",
    "            # Prediction for main\n",
    "            \n",
    "            try:\n",
    "                prediction_main = regr2.predict([[starost_main,\n",
    "                                                  prevozeni_km_main,\n",
    "                                                 ranking_main]])[0]\n",
    "\n",
    "                # Prediction comp\n",
    "\n",
    "                prediction_comp = regr2.predict([[starost_comp,\n",
    "                                                  prevozeni_km_comp,\n",
    "                                                 ranking_com]])[0]\n",
    "\n",
    "                # Adjustment is going to be equal to the relative difference between the predictions\n",
    "\n",
    "                adjustment = (prediction_main-prediction_comp) / prediction_comp\n",
    "\n",
    "                adjusted_price = (1 +adjustment) * Comparable_data[\"cena\"].values[0]\n",
    "\n",
    "                adjusted_prices.append(adjusted_price)\n",
    "            except ValueError:\n",
    "                # Če regresije ne moremo opraviti za adjusted price vzamemo kar orignalno ceno\n",
    "                adjusted_price = Comparable_data[\"cena\"].values[0]\n",
    "                adjusted_prices.append(adjusted_price)\n",
    "\n",
    "\n",
    "        adjusted_prices = [float(i) for i in adjusted_prices]\n",
    "        adjusted_ocena = stats.mean(adjusted_prices)\n",
    "\n",
    "        adjusted_prices_vse.append(adjusted_prices)\n",
    "        adjusted_ocene.append(adjusted_ocena)\n",
    "        \n",
    "        \n",
    "\n",
    "    modeling_results[\"Adjusted_prices_z_multivariatno_regresijo_v2\"] = adjusted_prices_vse\n",
    "    modeling_results[\"ocena_z_multivariatno_regresijo_v2\"] = adjusted_ocene\n",
    "    \n",
    "    # Konec multivariatne \n",
    "    \n",
    "    # logarithmic regression\n",
    "    data_prevozeni_km = data_train.dropna(subset = [\"prevozeni_km\"])\n",
    "\n",
    "    y = data_prevozeni_km[\"cena\"].values\n",
    "    x = data_prevozeni_km[\"prevozeni_km\"].values\n",
    "\n",
    "\n",
    "    fit_prevozeni_km = np.polyfit(np.log(x), y, 1)\n",
    "\n",
    "    # Starost \n",
    "\n",
    "    # Starost zamakni za 1\n",
    "\n",
    "    data_starost = data_train.dropna(subset = [\"starost\"])\n",
    "\n",
    "    y = data_starost[\"cena\"].values\n",
    "    x = np.array(data_starost[\"starost\"] + 1)\n",
    "\n",
    "\n",
    "    fit_starost = np.polyfit(np.log(x), y, 1)\n",
    "\n",
    "\n",
    "    # Starost \n",
    "\n",
    "    # Starost zamakni za 1\n",
    "\n",
    "    data_ccm = data_train.dropna(subset = [\"ccm_class\"])\n",
    "\n",
    "    y = data_ccm[\"cena\"].values\n",
    "    x = np.array(data_ccm[\"ccm_class\"] + 1)\n",
    "\n",
    "    fit_ccm = np.polyfit(np.log(x), y, 1)\n",
    "        \n",
    "    adjusted_price_all = []\n",
    "    adjusted_ocene_log_out_mean = []\n",
    "    \n",
    "    for i in range(0,len(modeling_results.index)):\n",
    "        string = modeling_results[\"IDS_of_top_k_matches\"].values[i][1:-1]\n",
    "        words = []\n",
    "        word = \"\"\n",
    "        for s in string:\n",
    "            if s == \" \":\n",
    "                try:\n",
    "                    copy_of_word = int(word)\n",
    "                    words.append(int(copy_of_word))\n",
    "                    word = \"\"\n",
    "                except:\n",
    "                    a=1\n",
    "            else:\n",
    "                word = word + s\n",
    "                int(word)\n",
    "\n",
    "        copy_of_word = int(word)\n",
    "        words.append(int(copy_of_word))\n",
    "\n",
    "        adjusted_price_log = []\n",
    "\n",
    "        for w in words:\n",
    "            Comparable_data = data_train[data_train.ID == w]\n",
    "            Main_data = data_test[data_test.ID == modeling_results[\"ID\"].values[i]]\n",
    "\n",
    "            # Code above is irrelevant but needed\n",
    "\n",
    "            # Now we have the main and the comparable cars\n",
    "            # We predict the values using linear multivariate regression\n",
    "\n",
    "            starost_main = Main_data[\"starost\"].values[0]\n",
    "            prevozeni_km_main = Main_data[\"prevozeni_km\"].values[0]\n",
    "            ccm_class_main = Main_data[\"ccm_class\"].values[0]\n",
    "\n",
    "\n",
    "            starost_comp = Comparable_data[\"starost\"].values[0]\n",
    "            prevozeni_km_comp = Comparable_data[\"prevozeni_km\"].values[0]\n",
    "            ccm_class_comp =  Comparable_data[\"ccm_class\"].values[0]\n",
    "            \n",
    "            # Starost\n",
    "            # pri starosti moraš 1 prišteti, ker je log(0) problem.\n",
    "            try:\n",
    "                prediction_main = fit_ccm[0] * np.log(starost_main+1) + fit_ccm[1]\n",
    "\n",
    "                # Prediction comp\n",
    "\n",
    "                prediction_comp =  fit_ccm[0] * np.log(starost_comp+1) + fit_ccm[1]\n",
    "\n",
    "                # Adjustment is going to be equal to the relative difference between the predictions\n",
    "\n",
    "                adjustment = (prediction_main-prediction_comp) / prediction_comp\n",
    "\n",
    "                adjusted_price = (1 +adjustment) * Comparable_data[\"cena\"].values[0]\n",
    "                \n",
    "            except ValueError:\n",
    "                 adjusted_price =  adjusted_price\n",
    "                    \n",
    "            \n",
    "            # Prevozeni km\n",
    "            \n",
    "            try:\n",
    "                prediction_main = fit_ccm[0] * np.log(prevozeni_km_main) + fit_ccm[1]\n",
    "\n",
    "                # Prediction comp\n",
    "\n",
    "                prediction_comp =  fit_ccm[0] * np.log(prevozeni_km_comp) + fit_ccm[1]\n",
    "\n",
    "                # Adjustment is going to be equal to the relative difference between the predictions\n",
    "\n",
    "                adjustment = (prediction_main-prediction_comp) / prediction_comp\n",
    "\n",
    "                adjusted_price = (1 +adjustment) * adjusted_price\n",
    "                \n",
    "            except ValueError:\n",
    "                 adjusted_price =  adjusted_price\n",
    "                    \n",
    "                    \n",
    "            # ccm\n",
    "            try:\n",
    "                prediction_main = fit_ccm[0] * np.log(ccm_class_main) + fit_ccm[1]\n",
    "\n",
    "                # Prediction comp\n",
    "\n",
    "                prediction_comp =  fit_ccm[0] * np.log(ccm_class_comp) + fit_ccm[1]\n",
    "\n",
    "                # Adjustment is going to be equal to the relative difference between the predictions\n",
    "\n",
    "                adjustment = (prediction_main-prediction_comp) / prediction_comp\n",
    "\n",
    "                adjusted_price = (1 +adjustment) * adjusted_price\n",
    "                \n",
    "            except ValueError:\n",
    "                 adjusted_price =  adjusted_price\n",
    "            \n",
    "            adjusted_price_log.append(adjusted_price)\n",
    "    \n",
    "\n",
    "        adjusted_price_log = [float(i) for i in adjusted_price_log]\n",
    "        adjusted_ocena_log_mean = stats.mean(adjusted_price_log)\n",
    "\n",
    "        adjusted_price_all.append(adjusted_price_log)\n",
    "        adjusted_ocene_log_out_mean.append(adjusted_ocena_log_mean)\n",
    "    \n",
    "    \n",
    "    modeling_results[\"Adjusted_prices_z_logaritmicno_regresijo\"] = adjusted_price_all\n",
    "    modeling_results[\"ocena_z_logaritmicno_regresijo\"] = adjusted_ocene_log_out_mean       \n",
    "    return modeling_results"
   ]
  },
  {
   "cell_type": "code",
   "execution_count": 14,
   "metadata": {},
   "outputs": [],
   "source": [
    "data = pd.read_excel(\"C:\\\\Users\\\\1roks\\\\Documents\\\\FMF\\Matematika z računalnikom\\\\Project\\\\Data\\\\Final data\\\\Final_data.xlsx\")\n",
    "# Izberi nakjlučni vzorec velikosti 300\n",
    "\n",
    "# Clean sample\n",
    "\n",
    "data_test = data[data.Train_test_identificator == \"test\"]\n",
    "data_train = data[data.Train_test_identificator == \"train\"]\n",
    "\n",
    "\n",
    "\n",
    "import pandas as pd\n",
    "import numpy as np\n",
    "import random\n",
    "import statistics\n",
    "from sklearn.linear_model import LinearRegression\n",
    "import time\n",
    "\n",
    "def linear(x):\n",
    "    return x\n",
    "\n",
    "def square(x):\n",
    "    return x**2\n",
    "\n",
    "def sqrt(x):\n",
    "    return x**0.5\n",
    "\n",
    "def normalize(f,vector):\n",
    "    vector_f = [f(v) for v in vector]\n",
    "    sum_vector_f = sum(vector_f)\n",
    "    return [v / sum_vector_f for v in vector_f]\n",
    "\n",
    "\n",
    "\n",
    "import pandas as pd\n",
    "from sklearn import linear_model\n",
    "import statsmodels.api as sm\n",
    "import statistics as stats\n",
    "\n",
    "\n",
    "def add_weights(Model_results_with_adj):\n",
    "    \n",
    "    ocena_kvadratna_normalizacija_list = []\n",
    "    ocena_linearna_normalizacija_list = []\n",
    "    ocena_korenska_normalizacija_list = []\n",
    "\n",
    "    Adjusted_prices_z_univariatno_regresijo_kvadratna_normalizacija_list = []\n",
    "    Adjusted_prices_z_univariatno_regresijo_linearna_normalizacija_list = []\n",
    "    Adjusted_prices_z_univariatno_regresijo_korenska_normalizacija_list = []\n",
    "\n",
    "    Adjusted_prices_z_multivariatno_regresijo_kvadratna_normalizacija_list = []\n",
    "    Adjusted_prices_z_multivariatno_regresijo_linearna_normalizacija_list = []\n",
    "    Adjusted_prices_z_multivariatno_regresijo_korenska_normalizacija_list = []\n",
    "    \n",
    "    Adjusted_prices_z_multivariatno_regresijo_kvadratna_normalizacija_list_v2 = []\n",
    "    Adjusted_prices_z_multivariatno_regresijo_linearna_normalizacija_list_v2 = []\n",
    "    Adjusted_prices_z_multivariatno_regresijo_korenska_normalizacija_list_v2 = []\n",
    "\n",
    "    Adjusted_prices_z_logaritmicno_regresijo_kvadratna_normalizacija_list = []\n",
    "    Adjusted_prices_z_logaritmicno_regresijo_linearna_normalizacija_list = []\n",
    "    Adjusted_prices_z_logaritmicno_regresijo_korenska_normalizacija_list = []\n",
    "\n",
    "\n",
    "\n",
    "    for i in range(0,len(Model_results_with_adj.index)):\n",
    "        string = Model_results_with_adj[\"Mere_podobnosti\"].values[i][1:-1]\n",
    "        words = []\n",
    "        word = \"\"\n",
    "        for s in string:\n",
    "            if s == \" \":\n",
    "                try:\n",
    "                    copy_of_word = int(word)\n",
    "                    words.append(int(copy_of_word))\n",
    "                    word = \"\"\n",
    "                except:\n",
    "                    a=1\n",
    "            else:\n",
    "                word = word + s\n",
    "                int(word)\n",
    "\n",
    "        copy_of_word = int(word)\n",
    "        words.append(int(copy_of_word))\n",
    "        \n",
    "        # Pridobi id-je comparablov\n",
    "        \n",
    "        string2 = Model_results_with_adj[\"IDS_of_top_k_matches\"].values[i][1:-1]\n",
    "        words2 = []\n",
    "        word = \"\"\n",
    "        for s in string2:\n",
    "            if s == \" \":\n",
    "                try:\n",
    "                    copy_of_word = int(word)\n",
    "                    words2.append(int(copy_of_word))\n",
    "                    word = \"\"\n",
    "                except:\n",
    "                    a=1\n",
    "            else:\n",
    "                word = word + s\n",
    "                int(word)\n",
    "\n",
    "        copy_of_word = int(word)\n",
    "        words2.append(int(copy_of_word))\n",
    "        \n",
    "        cene_comparable = []\n",
    "        \n",
    "        for Id in words2:\n",
    "            d = data_train[data_train.ID == Id]\n",
    "            cene_comparable.append(d[\"cena\"].values[0])\n",
    "        # izračunaj uteži glede na različne funkcije\n",
    "\n",
    "        vector_podobnosti = list(words)\n",
    "\n",
    "        kvadratna_normalizacija =  np.array(normalize(square,vector_podobnosti))\n",
    "        linearna_normalizacija =  np.array(normalize(linear,vector_podobnosti))\n",
    "        korenska_normalizacija =  np.array(normalize(sqrt,vector_podobnosti))\n",
    "\n",
    "        list_of_prices = [\"ocena\", \n",
    "                      \"Adjusted_prices_z_univariatno_regresijo\", \n",
    "                      \"Adjusted_prices_z_multivariatno_regresijo\",\n",
    "                      \"Adjusted_prices_z_logaritmicno_regresijo\"]\n",
    "\n",
    "        ocena_kvadratna_normalizacija = kvadratna_normalizacija * np.array(cene_comparable)\n",
    "        ocena_linearna_normalizacija = linearna_normalizacija * np.array(cene_comparable)\n",
    "        ocena_korenska_normalizacija = korenska_normalizacija * np.array(cene_comparable)\n",
    "\n",
    "        Adjusted_prices_z_univariatno_regresijo_kvadratna_normalizacija = kvadratna_normalizacija * np.array(Model_results_with_adj[\"Adjusted_prices_z_univariatno_regresijo\"].values[i])\n",
    "        Adjusted_prices_z_univariatno_regresijo_linearna_normalizacija = linearna_normalizacija * np.array(Model_results_with_adj[\"Adjusted_prices_z_univariatno_regresijo\"].values[i])\n",
    "        Adjusted_prices_z_univariatno_regresijo_korenska_normalizacija = korenska_normalizacija * np.array(Model_results_with_adj[\"Adjusted_prices_z_univariatno_regresijo\"].values[i])    \n",
    "\n",
    "        Adjusted_prices_z_multivariatno_regresijo_kvadratna_normalizacija = kvadratna_normalizacija * np.array(Model_results_with_adj[\"Adjusted_prices_z_multivariatno_regresijo\"].values[i])\n",
    "        Adjusted_prices_z_multivariatno_regresijo_linearna_normalizacija = linearna_normalizacija * np.array(Model_results_with_adj[\"Adjusted_prices_z_multivariatno_regresijo\"].values[i])\n",
    "        Adjusted_prices_z_multivariatno_regresijo_korenska_normalizacija = korenska_normalizacija * np.array(Model_results_with_adj[\"Adjusted_prices_z_multivariatno_regresijo\"].values[i])\n",
    "\n",
    "        \n",
    "        Adjusted_prices_z_multivariatno_regresijo_kvadratna_normalizacija_v2 = kvadratna_normalizacija * np.array(Model_results_with_adj[\"Adjusted_prices_z_multivariatno_regresijo_v2\"].values[i])\n",
    "        Adjusted_prices_z_multivariatno_regresijo_linearna_normalizacija_v2 = linearna_normalizacija * np.array(Model_results_with_adj[\"Adjusted_prices_z_multivariatno_regresijo_v2\"].values[i])\n",
    "        Adjusted_prices_z_multivariatno_regresijo_korenska_normalizacija_v2 = korenska_normalizacija * np.array(Model_results_with_adj[\"Adjusted_prices_z_multivariatno_regresijo_v2\"].values[i])\n",
    "\n",
    "        Adjusted_prices_z_logaritmicno_regresijo_kvadratna_normalizacija = kvadratna_normalizacija * np.array(Model_results_with_adj[\"Adjusted_prices_z_logaritmicno_regresijo\"].values[i])\n",
    "        Adjusted_prices_z_logaritmicno_regresijo_linearna_normalizacija = linearna_normalizacija * np.array(Model_results_with_adj[\"Adjusted_prices_z_logaritmicno_regresijo\"].values[i])\n",
    "        Adjusted_prices_z_logaritmicno_regresijo_korenska_normalizacija = korenska_normalizacija * np.array(Model_results_with_adj[\"Adjusted_prices_z_logaritmicno_regresijo\"].values[i])\n",
    "\n",
    "        # Zapolni sezname \n",
    "        ocena_kvadratna_normalizacija_list.append(sum(ocena_kvadratna_normalizacija))\n",
    "        ocena_linearna_normalizacija_list.append(sum(ocena_linearna_normalizacija))\n",
    "        ocena_korenska_normalizacija_list.append(sum(ocena_korenska_normalizacija))\n",
    "\n",
    "        Adjusted_prices_z_univariatno_regresijo_kvadratna_normalizacija_list.append(sum(Adjusted_prices_z_univariatno_regresijo_kvadratna_normalizacija))\n",
    "        Adjusted_prices_z_univariatno_regresijo_linearna_normalizacija_list.append(sum(Adjusted_prices_z_univariatno_regresijo_linearna_normalizacija))\n",
    "        Adjusted_prices_z_univariatno_regresijo_korenska_normalizacija_list.append(sum(Adjusted_prices_z_univariatno_regresijo_korenska_normalizacija))\n",
    "\n",
    "        Adjusted_prices_z_multivariatno_regresijo_kvadratna_normalizacija_list.append(sum(Adjusted_prices_z_multivariatno_regresijo_kvadratna_normalizacija))\n",
    "        Adjusted_prices_z_multivariatno_regresijo_linearna_normalizacija_list.append(sum(Adjusted_prices_z_multivariatno_regresijo_linearna_normalizacija)) \n",
    "        Adjusted_prices_z_multivariatno_regresijo_korenska_normalizacija_list.append(sum(Adjusted_prices_z_multivariatno_regresijo_korenska_normalizacija)) \n",
    "\n",
    "        Adjusted_prices_z_multivariatno_regresijo_kvadratna_normalizacija_list_v2.append(sum(Adjusted_prices_z_multivariatno_regresijo_kvadratna_normalizacija_v2))\n",
    "        Adjusted_prices_z_multivariatno_regresijo_linearna_normalizacija_list_v2.append(sum(Adjusted_prices_z_multivariatno_regresijo_linearna_normalizacija_v2)) \n",
    "        Adjusted_prices_z_multivariatno_regresijo_korenska_normalizacija_list_v2.append(sum(Adjusted_prices_z_multivariatno_regresijo_korenska_normalizacija_v2)) \n",
    "\n",
    "        Adjusted_prices_z_logaritmicno_regresijo_kvadratna_normalizacija_list.append(sum(Adjusted_prices_z_logaritmicno_regresijo_kvadratna_normalizacija))\n",
    "        Adjusted_prices_z_logaritmicno_regresijo_linearna_normalizacija_list.append(sum(Adjusted_prices_z_logaritmicno_regresijo_linearna_normalizacija)) \n",
    "        Adjusted_prices_z_logaritmicno_regresijo_korenska_normalizacija_list.append(sum(Adjusted_prices_z_logaritmicno_regresijo_korenska_normalizacija))\n",
    "\n",
    "    Model_results_with_adj[\"ocena_kvadratna_normalizacija\"] = ocena_kvadratna_normalizacija_list\n",
    "    Model_results_with_adj[\"ocena_linearna_normalizacija\" ] = ocena_linearna_normalizacija_list\n",
    "    Model_results_with_adj[\"ocena_korenska_normalizacija\"] = ocena_korenska_normalizacija_list\n",
    "    \n",
    "\n",
    "    Model_results_with_adj[\"Adjusted_prices_z_univariatno_regresijo_kvadratna_normalizacija\"] = Adjusted_prices_z_univariatno_regresijo_kvadratna_normalizacija_list\n",
    "    Model_results_with_adj[\"Adjusted_prices_z_univariatno_regresijo_linearna_normalizacija\"] = Adjusted_prices_z_univariatno_regresijo_linearna_normalizacija_list\n",
    "    Model_results_with_adj[\"Adjusted_prices_z_univariatno_regresijo_korenska_normalizacija\"] = Adjusted_prices_z_univariatno_regresijo_korenska_normalizacija_list\n",
    "\n",
    "    Model_results_with_adj[\"Adjusted_prices_z_multivariatno_regresijo_kvadratna_normalizacija\"] = Adjusted_prices_z_multivariatno_regresijo_kvadratna_normalizacija_list\n",
    "    Model_results_with_adj[\"Adjusted_prices_z_multivariatno_regresijo_linearna_normalizacija\"] = Adjusted_prices_z_multivariatno_regresijo_linearna_normalizacija_list\n",
    "    Model_results_with_adj[\"Adjusted_prices_z_multivariatno_regresijo_korenska_normalizacija\"] = Adjusted_prices_z_multivariatno_regresijo_korenska_normalizacija_list\n",
    "\n",
    "    Model_results_with_adj[\"Adjusted_prices_z_multivariatno_regresijo_kvadratna_normalizacija_v2\"] = Adjusted_prices_z_multivariatno_regresijo_kvadratna_normalizacija_list_v2\n",
    "    Model_results_with_adj[\"Adjusted_prices_z_multivariatno_regresijo_linearna_normalizacija_v2\"] = Adjusted_prices_z_multivariatno_regresijo_linearna_normalizacija_list_v2\n",
    "    Model_results_with_adj[\"Adjusted_prices_z_multivariatno_regresijo_korenska_normalizacija_v2\"] = Adjusted_prices_z_multivariatno_regresijo_korenska_normalizacija_list_v2\n",
    "\n",
    "    Model_results_with_adj[\"Adjusted_prices_z_logaritmicno_regresijo_kvadratna_normalizacija\"] = Adjusted_prices_z_logaritmicno_regresijo_kvadratna_normalizacija_list\n",
    "    Model_results_with_adj[\"Adjusted_prices_z_logaritmicno_regresijo_linearna_normalizacija\"] = Adjusted_prices_z_logaritmicno_regresijo_linearna_normalizacija_list\n",
    "    Model_results_with_adj[\"Adjusted_prices_z_logaritmicno_regresijo_korenska_normalizacija\"] = Adjusted_prices_z_logaritmicno_regresijo_korenska_normalizacija_list\n",
    "        \n",
    "    return Model_results_with_adj\n",
    "\n",
    "\n",
    "def get_weights_results(Model_results_with_adj):\n",
    "    parametri = Model_results_with_adj[\"Parameters\"].values[0]\n",
    "    Model_results_with_adj_2 = add_weights(Model_results_with_adj)\n",
    "    name_of_run = \"Run 1\"\n",
    "    columns_for_metrics = [\"ocena\",\n",
    "                    \"ocena_z_univariatno_regresijo\",\n",
    "                    \"ocena_z_multivariatno_regresijo\",\n",
    "                    \"ocena_z_multivariatno_regresijo_v2\",\n",
    "                    \"ocena_z_logaritmicno_regresijo\",\n",
    "                    'ocena_kvadratna_normalizacija',\n",
    "                    'ocena_linearna_normalizacija', \n",
    "                    'ocena_korenska_normalizacija',\n",
    "                    'Adjusted_prices_z_univariatno_regresijo_kvadratna_normalizacija',\n",
    "                    'Adjusted_prices_z_univariatno_regresijo_linearna_normalizacija',\n",
    "                    'Adjusted_prices_z_univariatno_regresijo_korenska_normalizacija',\n",
    "                    'Adjusted_prices_z_multivariatno_regresijo_kvadratna_normalizacija',\n",
    "                    'Adjusted_prices_z_multivariatno_regresijo_linearna_normalizacija',\n",
    "                    'Adjusted_prices_z_multivariatno_regresijo_korenska_normalizacija',\n",
    "                    'Adjusted_prices_z_multivariatno_regresijo_kvadratna_normalizacija_v2',\n",
    "                    'Adjusted_prices_z_multivariatno_regresijo_linearna_normalizacija_v2',\n",
    "                    'Adjusted_prices_z_multivariatno_regresijo_korenska_normalizacija_v2',                           \n",
    "                    'Adjusted_prices_z_logaritmicno_regresijo_kvadratna_normalizacija',\n",
    "                    'Adjusted_prices_z_logaritmicno_regresijo_linearna_normalizacija',\n",
    "                    'Adjusted_prices_z_logaritmicno_regresijo_korenska_normalizacija']\n",
    "\n",
    "    for i in range(0,len(columns_for_metrics)):\n",
    "        if i == 0:\n",
    "            df = Metrics(add_weights(Model_results_with_adj), columns_for_metrics[i] , columns_for_metrics[i] ,parametri)\n",
    "        else:\n",
    "            df2 = Metrics(add_weights(Model_results_with_adj), columns_for_metrics[i] , columns_for_metrics[i] ,parametri)\n",
    "\n",
    "            df = df.append(pd.DataFrame(df2))\n",
    "\n",
    "    return df\n",
    "    "
   ]
  },
  {
   "cell_type": "code",
   "execution_count": 34,
   "metadata": {},
   "outputs": [
    {
     "name": "stdout",
     "output_type": "stream",
     "text": [
      "1\n"
     ]
    },
    {
     "name": "stderr",
     "output_type": "stream",
     "text": [
      "<ipython-input-22-f2d8abc5f5d5>:503: RuntimeWarning: divide by zero encountered in log\n",
      "  prediction_comp =  fit_ccm[0] * np.log(ccm_class_comp) + fit_ccm[1]\n",
      "<ipython-input-22-f2d8abc5f5d5>:507: RuntimeWarning: invalid value encountered in double_scalars\n",
      "  adjustment = (prediction_main-prediction_comp) / prediction_comp\n",
      "<ipython-input-22-f2d8abc5f5d5>:503: RuntimeWarning: divide by zero encountered in log\n",
      "  prediction_comp =  fit_ccm[0] * np.log(ccm_class_comp) + fit_ccm[1]\n",
      "<ipython-input-22-f2d8abc5f5d5>:507: RuntimeWarning: invalid value encountered in double_scalars\n",
      "  adjustment = (prediction_main-prediction_comp) / prediction_comp\n"
     ]
    },
    {
     "name": "stdout",
     "output_type": "stream",
     "text": [
      "2\n"
     ]
    },
    {
     "name": "stderr",
     "output_type": "stream",
     "text": [
      "<ipython-input-22-f2d8abc5f5d5>:503: RuntimeWarning: divide by zero encountered in log\n",
      "  prediction_comp =  fit_ccm[0] * np.log(ccm_class_comp) + fit_ccm[1]\n",
      "<ipython-input-22-f2d8abc5f5d5>:507: RuntimeWarning: invalid value encountered in double_scalars\n",
      "  adjustment = (prediction_main-prediction_comp) / prediction_comp\n",
      "<ipython-input-22-f2d8abc5f5d5>:503: RuntimeWarning: divide by zero encountered in log\n",
      "  prediction_comp =  fit_ccm[0] * np.log(ccm_class_comp) + fit_ccm[1]\n",
      "<ipython-input-22-f2d8abc5f5d5>:507: RuntimeWarning: invalid value encountered in double_scalars\n",
      "  adjustment = (prediction_main-prediction_comp) / prediction_comp\n"
     ]
    },
    {
     "name": "stdout",
     "output_type": "stream",
     "text": [
      "3\n"
     ]
    },
    {
     "name": "stderr",
     "output_type": "stream",
     "text": [
      "<ipython-input-22-f2d8abc5f5d5>:503: RuntimeWarning: divide by zero encountered in log\n",
      "  prediction_comp =  fit_ccm[0] * np.log(ccm_class_comp) + fit_ccm[1]\n",
      "<ipython-input-22-f2d8abc5f5d5>:507: RuntimeWarning: invalid value encountered in double_scalars\n",
      "  adjustment = (prediction_main-prediction_comp) / prediction_comp\n",
      "<ipython-input-22-f2d8abc5f5d5>:503: RuntimeWarning: divide by zero encountered in log\n",
      "  prediction_comp =  fit_ccm[0] * np.log(ccm_class_comp) + fit_ccm[1]\n",
      "<ipython-input-22-f2d8abc5f5d5>:507: RuntimeWarning: invalid value encountered in double_scalars\n",
      "  adjustment = (prediction_main-prediction_comp) / prediction_comp\n"
     ]
    },
    {
     "name": "stdout",
     "output_type": "stream",
     "text": [
      "4\n",
      "5\n",
      "6\n"
     ]
    },
    {
     "name": "stderr",
     "output_type": "stream",
     "text": [
      "<ipython-input-22-f2d8abc5f5d5>:503: RuntimeWarning: divide by zero encountered in log\n",
      "  prediction_comp =  fit_ccm[0] * np.log(ccm_class_comp) + fit_ccm[1]\n",
      "<ipython-input-22-f2d8abc5f5d5>:507: RuntimeWarning: invalid value encountered in double_scalars\n",
      "  adjustment = (prediction_main-prediction_comp) / prediction_comp\n"
     ]
    },
    {
     "name": "stdout",
     "output_type": "stream",
     "text": [
      "7\n",
      "8\n"
     ]
    },
    {
     "name": "stderr",
     "output_type": "stream",
     "text": [
      "<ipython-input-22-f2d8abc5f5d5>:503: RuntimeWarning: divide by zero encountered in log\n",
      "  prediction_comp =  fit_ccm[0] * np.log(ccm_class_comp) + fit_ccm[1]\n",
      "<ipython-input-22-f2d8abc5f5d5>:507: RuntimeWarning: invalid value encountered in double_scalars\n",
      "  adjustment = (prediction_main-prediction_comp) / prediction_comp\n",
      "<ipython-input-22-f2d8abc5f5d5>:503: RuntimeWarning: divide by zero encountered in log\n",
      "  prediction_comp =  fit_ccm[0] * np.log(ccm_class_comp) + fit_ccm[1]\n",
      "<ipython-input-22-f2d8abc5f5d5>:507: RuntimeWarning: invalid value encountered in double_scalars\n",
      "  adjustment = (prediction_main-prediction_comp) / prediction_comp\n"
     ]
    },
    {
     "name": "stdout",
     "output_type": "stream",
     "text": [
      "9\n",
      "10\n"
     ]
    },
    {
     "name": "stderr",
     "output_type": "stream",
     "text": [
      "<ipython-input-22-f2d8abc5f5d5>:503: RuntimeWarning: divide by zero encountered in log\n",
      "  prediction_comp =  fit_ccm[0] * np.log(ccm_class_comp) + fit_ccm[1]\n",
      "<ipython-input-22-f2d8abc5f5d5>:507: RuntimeWarning: invalid value encountered in double_scalars\n",
      "  adjustment = (prediction_main-prediction_comp) / prediction_comp\n",
      "<ipython-input-22-f2d8abc5f5d5>:503: RuntimeWarning: divide by zero encountered in log\n",
      "  prediction_comp =  fit_ccm[0] * np.log(ccm_class_comp) + fit_ccm[1]\n",
      "<ipython-input-22-f2d8abc5f5d5>:507: RuntimeWarning: invalid value encountered in double_scalars\n",
      "  adjustment = (prediction_main-prediction_comp) / prediction_comp\n"
     ]
    },
    {
     "name": "stdout",
     "output_type": "stream",
     "text": [
      "11\n"
     ]
    },
    {
     "name": "stderr",
     "output_type": "stream",
     "text": [
      "<ipython-input-22-f2d8abc5f5d5>:503: RuntimeWarning: divide by zero encountered in log\n",
      "  prediction_comp =  fit_ccm[0] * np.log(ccm_class_comp) + fit_ccm[1]\n",
      "<ipython-input-22-f2d8abc5f5d5>:507: RuntimeWarning: invalid value encountered in double_scalars\n",
      "  adjustment = (prediction_main-prediction_comp) / prediction_comp\n"
     ]
    },
    {
     "name": "stdout",
     "output_type": "stream",
     "text": [
      "12\n"
     ]
    },
    {
     "name": "stderr",
     "output_type": "stream",
     "text": [
      "<ipython-input-22-f2d8abc5f5d5>:503: RuntimeWarning: divide by zero encountered in log\n",
      "  prediction_comp =  fit_ccm[0] * np.log(ccm_class_comp) + fit_ccm[1]\n",
      "<ipython-input-22-f2d8abc5f5d5>:507: RuntimeWarning: invalid value encountered in double_scalars\n",
      "  adjustment = (prediction_main-prediction_comp) / prediction_comp\n",
      "<ipython-input-22-f2d8abc5f5d5>:503: RuntimeWarning: divide by zero encountered in log\n",
      "  prediction_comp =  fit_ccm[0] * np.log(ccm_class_comp) + fit_ccm[1]\n",
      "<ipython-input-22-f2d8abc5f5d5>:507: RuntimeWarning: invalid value encountered in double_scalars\n",
      "  adjustment = (prediction_main-prediction_comp) / prediction_comp\n"
     ]
    },
    {
     "name": "stdout",
     "output_type": "stream",
     "text": [
      "13\n",
      "14\n"
     ]
    },
    {
     "name": "stderr",
     "output_type": "stream",
     "text": [
      "<ipython-input-22-f2d8abc5f5d5>:503: RuntimeWarning: divide by zero encountered in log\n",
      "  prediction_comp =  fit_ccm[0] * np.log(ccm_class_comp) + fit_ccm[1]\n",
      "<ipython-input-22-f2d8abc5f5d5>:507: RuntimeWarning: invalid value encountered in double_scalars\n",
      "  adjustment = (prediction_main-prediction_comp) / prediction_comp\n",
      "<ipython-input-22-f2d8abc5f5d5>:503: RuntimeWarning: divide by zero encountered in log\n",
      "  prediction_comp =  fit_ccm[0] * np.log(ccm_class_comp) + fit_ccm[1]\n",
      "<ipython-input-22-f2d8abc5f5d5>:507: RuntimeWarning: invalid value encountered in double_scalars\n",
      "  adjustment = (prediction_main-prediction_comp) / prediction_comp\n",
      "<ipython-input-22-f2d8abc5f5d5>:503: RuntimeWarning: divide by zero encountered in log\n",
      "  prediction_comp =  fit_ccm[0] * np.log(ccm_class_comp) + fit_ccm[1]\n",
      "<ipython-input-22-f2d8abc5f5d5>:507: RuntimeWarning: invalid value encountered in double_scalars\n",
      "  adjustment = (prediction_main-prediction_comp) / prediction_comp\n"
     ]
    },
    {
     "name": "stdout",
     "output_type": "stream",
     "text": [
      "15\n",
      "16\n",
      "17\n"
     ]
    },
    {
     "name": "stderr",
     "output_type": "stream",
     "text": [
      "<ipython-input-22-f2d8abc5f5d5>:503: RuntimeWarning: divide by zero encountered in log\n",
      "  prediction_comp =  fit_ccm[0] * np.log(ccm_class_comp) + fit_ccm[1]\n",
      "<ipython-input-22-f2d8abc5f5d5>:507: RuntimeWarning: invalid value encountered in double_scalars\n",
      "  adjustment = (prediction_main-prediction_comp) / prediction_comp\n",
      "<ipython-input-22-f2d8abc5f5d5>:503: RuntimeWarning: divide by zero encountered in log\n",
      "  prediction_comp =  fit_ccm[0] * np.log(ccm_class_comp) + fit_ccm[1]\n",
      "<ipython-input-22-f2d8abc5f5d5>:507: RuntimeWarning: invalid value encountered in double_scalars\n",
      "  adjustment = (prediction_main-prediction_comp) / prediction_comp\n"
     ]
    },
    {
     "name": "stdout",
     "output_type": "stream",
     "text": [
      "18\n"
     ]
    },
    {
     "name": "stderr",
     "output_type": "stream",
     "text": [
      "<ipython-input-22-f2d8abc5f5d5>:503: RuntimeWarning: divide by zero encountered in log\n",
      "  prediction_comp =  fit_ccm[0] * np.log(ccm_class_comp) + fit_ccm[1]\n",
      "<ipython-input-22-f2d8abc5f5d5>:507: RuntimeWarning: invalid value encountered in double_scalars\n",
      "  adjustment = (prediction_main-prediction_comp) / prediction_comp\n",
      "<ipython-input-22-f2d8abc5f5d5>:503: RuntimeWarning: divide by zero encountered in log\n",
      "  prediction_comp =  fit_ccm[0] * np.log(ccm_class_comp) + fit_ccm[1]\n",
      "<ipython-input-22-f2d8abc5f5d5>:507: RuntimeWarning: invalid value encountered in double_scalars\n",
      "  adjustment = (prediction_main-prediction_comp) / prediction_comp\n"
     ]
    },
    {
     "name": "stdout",
     "output_type": "stream",
     "text": [
      "19\n",
      "20\n"
     ]
    },
    {
     "name": "stderr",
     "output_type": "stream",
     "text": [
      "<ipython-input-22-f2d8abc5f5d5>:503: RuntimeWarning: divide by zero encountered in log\n",
      "  prediction_comp =  fit_ccm[0] * np.log(ccm_class_comp) + fit_ccm[1]\n",
      "<ipython-input-22-f2d8abc5f5d5>:507: RuntimeWarning: invalid value encountered in double_scalars\n",
      "  adjustment = (prediction_main-prediction_comp) / prediction_comp\n",
      "<ipython-input-22-f2d8abc5f5d5>:503: RuntimeWarning: divide by zero encountered in log\n",
      "  prediction_comp =  fit_ccm[0] * np.log(ccm_class_comp) + fit_ccm[1]\n",
      "<ipython-input-22-f2d8abc5f5d5>:507: RuntimeWarning: invalid value encountered in double_scalars\n",
      "  adjustment = (prediction_main-prediction_comp) / prediction_comp\n",
      "<ipython-input-22-f2d8abc5f5d5>:503: RuntimeWarning: divide by zero encountered in log\n",
      "  prediction_comp =  fit_ccm[0] * np.log(ccm_class_comp) + fit_ccm[1]\n",
      "<ipython-input-22-f2d8abc5f5d5>:507: RuntimeWarning: invalid value encountered in double_scalars\n",
      "  adjustment = (prediction_main-prediction_comp) / prediction_comp\n"
     ]
    },
    {
     "name": "stdout",
     "output_type": "stream",
     "text": [
      "21\n",
      "22\n"
     ]
    },
    {
     "name": "stderr",
     "output_type": "stream",
     "text": [
      "<ipython-input-22-f2d8abc5f5d5>:503: RuntimeWarning: divide by zero encountered in log\n",
      "  prediction_comp =  fit_ccm[0] * np.log(ccm_class_comp) + fit_ccm[1]\n",
      "<ipython-input-22-f2d8abc5f5d5>:507: RuntimeWarning: invalid value encountered in double_scalars\n",
      "  adjustment = (prediction_main-prediction_comp) / prediction_comp\n",
      "<ipython-input-22-f2d8abc5f5d5>:503: RuntimeWarning: divide by zero encountered in log\n",
      "  prediction_comp =  fit_ccm[0] * np.log(ccm_class_comp) + fit_ccm[1]\n",
      "<ipython-input-22-f2d8abc5f5d5>:507: RuntimeWarning: invalid value encountered in double_scalars\n",
      "  adjustment = (prediction_main-prediction_comp) / prediction_comp\n",
      "<ipython-input-22-f2d8abc5f5d5>:503: RuntimeWarning: divide by zero encountered in log\n",
      "  prediction_comp =  fit_ccm[0] * np.log(ccm_class_comp) + fit_ccm[1]\n",
      "<ipython-input-22-f2d8abc5f5d5>:507: RuntimeWarning: invalid value encountered in double_scalars\n",
      "  adjustment = (prediction_main-prediction_comp) / prediction_comp\n"
     ]
    },
    {
     "name": "stdout",
     "output_type": "stream",
     "text": [
      "23\n"
     ]
    },
    {
     "name": "stderr",
     "output_type": "stream",
     "text": [
      "<ipython-input-22-f2d8abc5f5d5>:503: RuntimeWarning: divide by zero encountered in log\n",
      "  prediction_comp =  fit_ccm[0] * np.log(ccm_class_comp) + fit_ccm[1]\n",
      "<ipython-input-22-f2d8abc5f5d5>:507: RuntimeWarning: invalid value encountered in double_scalars\n",
      "  adjustment = (prediction_main-prediction_comp) / prediction_comp\n",
      "<ipython-input-22-f2d8abc5f5d5>:503: RuntimeWarning: divide by zero encountered in log\n",
      "  prediction_comp =  fit_ccm[0] * np.log(ccm_class_comp) + fit_ccm[1]\n",
      "<ipython-input-22-f2d8abc5f5d5>:507: RuntimeWarning: invalid value encountered in double_scalars\n",
      "  adjustment = (prediction_main-prediction_comp) / prediction_comp\n"
     ]
    },
    {
     "name": "stdout",
     "output_type": "stream",
     "text": [
      "24\n",
      "25\n"
     ]
    },
    {
     "name": "stderr",
     "output_type": "stream",
     "text": [
      "<ipython-input-22-f2d8abc5f5d5>:503: RuntimeWarning: divide by zero encountered in log\n",
      "  prediction_comp =  fit_ccm[0] * np.log(ccm_class_comp) + fit_ccm[1]\n",
      "<ipython-input-22-f2d8abc5f5d5>:507: RuntimeWarning: invalid value encountered in double_scalars\n",
      "  adjustment = (prediction_main-prediction_comp) / prediction_comp\n"
     ]
    },
    {
     "name": "stdout",
     "output_type": "stream",
     "text": [
      "26\n"
     ]
    },
    {
     "name": "stderr",
     "output_type": "stream",
     "text": [
      "<ipython-input-22-f2d8abc5f5d5>:503: RuntimeWarning: divide by zero encountered in log\n",
      "  prediction_comp =  fit_ccm[0] * np.log(ccm_class_comp) + fit_ccm[1]\n",
      "<ipython-input-22-f2d8abc5f5d5>:507: RuntimeWarning: invalid value encountered in double_scalars\n",
      "  adjustment = (prediction_main-prediction_comp) / prediction_comp\n",
      "<ipython-input-22-f2d8abc5f5d5>:503: RuntimeWarning: divide by zero encountered in log\n",
      "  prediction_comp =  fit_ccm[0] * np.log(ccm_class_comp) + fit_ccm[1]\n",
      "<ipython-input-22-f2d8abc5f5d5>:507: RuntimeWarning: invalid value encountered in double_scalars\n",
      "  adjustment = (prediction_main-prediction_comp) / prediction_comp\n"
     ]
    },
    {
     "name": "stdout",
     "output_type": "stream",
     "text": [
      "27\n"
     ]
    },
    {
     "name": "stderr",
     "output_type": "stream",
     "text": [
      "<ipython-input-22-f2d8abc5f5d5>:503: RuntimeWarning: divide by zero encountered in log\n",
      "  prediction_comp =  fit_ccm[0] * np.log(ccm_class_comp) + fit_ccm[1]\n",
      "<ipython-input-22-f2d8abc5f5d5>:507: RuntimeWarning: invalid value encountered in double_scalars\n",
      "  adjustment = (prediction_main-prediction_comp) / prediction_comp\n"
     ]
    },
    {
     "name": "stdout",
     "output_type": "stream",
     "text": [
      "28\n",
      "29\n",
      "30\n",
      "31\n",
      "32\n"
     ]
    },
    {
     "name": "stderr",
     "output_type": "stream",
     "text": [
      "<ipython-input-22-f2d8abc5f5d5>:503: RuntimeWarning: divide by zero encountered in log\n",
      "  prediction_comp =  fit_ccm[0] * np.log(ccm_class_comp) + fit_ccm[1]\n",
      "<ipython-input-22-f2d8abc5f5d5>:507: RuntimeWarning: invalid value encountered in double_scalars\n",
      "  adjustment = (prediction_main-prediction_comp) / prediction_comp\n",
      "<ipython-input-22-f2d8abc5f5d5>:503: RuntimeWarning: divide by zero encountered in log\n",
      "  prediction_comp =  fit_ccm[0] * np.log(ccm_class_comp) + fit_ccm[1]\n",
      "<ipython-input-22-f2d8abc5f5d5>:507: RuntimeWarning: invalid value encountered in double_scalars\n",
      "  adjustment = (prediction_main-prediction_comp) / prediction_comp\n"
     ]
    },
    {
     "name": "stdout",
     "output_type": "stream",
     "text": [
      "33\n"
     ]
    },
    {
     "name": "stderr",
     "output_type": "stream",
     "text": [
      "<ipython-input-22-f2d8abc5f5d5>:503: RuntimeWarning: divide by zero encountered in log\n",
      "  prediction_comp =  fit_ccm[0] * np.log(ccm_class_comp) + fit_ccm[1]\n",
      "<ipython-input-22-f2d8abc5f5d5>:507: RuntimeWarning: invalid value encountered in double_scalars\n",
      "  adjustment = (prediction_main-prediction_comp) / prediction_comp\n",
      "<ipython-input-22-f2d8abc5f5d5>:503: RuntimeWarning: divide by zero encountered in log\n",
      "  prediction_comp =  fit_ccm[0] * np.log(ccm_class_comp) + fit_ccm[1]\n",
      "<ipython-input-22-f2d8abc5f5d5>:507: RuntimeWarning: invalid value encountered in double_scalars\n",
      "  adjustment = (prediction_main-prediction_comp) / prediction_comp\n"
     ]
    },
    {
     "name": "stdout",
     "output_type": "stream",
     "text": [
      "34\n"
     ]
    },
    {
     "name": "stderr",
     "output_type": "stream",
     "text": [
      "<ipython-input-22-f2d8abc5f5d5>:503: RuntimeWarning: divide by zero encountered in log\n",
      "  prediction_comp =  fit_ccm[0] * np.log(ccm_class_comp) + fit_ccm[1]\n",
      "<ipython-input-22-f2d8abc5f5d5>:507: RuntimeWarning: invalid value encountered in double_scalars\n",
      "  adjustment = (prediction_main-prediction_comp) / prediction_comp\n",
      "<ipython-input-22-f2d8abc5f5d5>:503: RuntimeWarning: divide by zero encountered in log\n",
      "  prediction_comp =  fit_ccm[0] * np.log(ccm_class_comp) + fit_ccm[1]\n",
      "<ipython-input-22-f2d8abc5f5d5>:507: RuntimeWarning: invalid value encountered in double_scalars\n",
      "  adjustment = (prediction_main-prediction_comp) / prediction_comp\n"
     ]
    },
    {
     "name": "stdout",
     "output_type": "stream",
     "text": [
      "35\n",
      "36\n"
     ]
    },
    {
     "name": "stderr",
     "output_type": "stream",
     "text": [
      "<ipython-input-22-f2d8abc5f5d5>:503: RuntimeWarning: divide by zero encountered in log\n",
      "  prediction_comp =  fit_ccm[0] * np.log(ccm_class_comp) + fit_ccm[1]\n",
      "<ipython-input-22-f2d8abc5f5d5>:507: RuntimeWarning: invalid value encountered in double_scalars\n",
      "  adjustment = (prediction_main-prediction_comp) / prediction_comp\n",
      "<ipython-input-22-f2d8abc5f5d5>:503: RuntimeWarning: divide by zero encountered in log\n",
      "  prediction_comp =  fit_ccm[0] * np.log(ccm_class_comp) + fit_ccm[1]\n",
      "<ipython-input-22-f2d8abc5f5d5>:507: RuntimeWarning: invalid value encountered in double_scalars\n",
      "  adjustment = (prediction_main-prediction_comp) / prediction_comp\n"
     ]
    },
    {
     "name": "stdout",
     "output_type": "stream",
     "text": [
      "37\n"
     ]
    },
    {
     "name": "stderr",
     "output_type": "stream",
     "text": [
      "<ipython-input-22-f2d8abc5f5d5>:503: RuntimeWarning: divide by zero encountered in log\n",
      "  prediction_comp =  fit_ccm[0] * np.log(ccm_class_comp) + fit_ccm[1]\n",
      "<ipython-input-22-f2d8abc5f5d5>:507: RuntimeWarning: invalid value encountered in double_scalars\n",
      "  adjustment = (prediction_main-prediction_comp) / prediction_comp\n",
      "<ipython-input-22-f2d8abc5f5d5>:503: RuntimeWarning: divide by zero encountered in log\n",
      "  prediction_comp =  fit_ccm[0] * np.log(ccm_class_comp) + fit_ccm[1]\n",
      "<ipython-input-22-f2d8abc5f5d5>:507: RuntimeWarning: invalid value encountered in double_scalars\n",
      "  adjustment = (prediction_main-prediction_comp) / prediction_comp\n"
     ]
    },
    {
     "name": "stdout",
     "output_type": "stream",
     "text": [
      "38\n",
      "39\n"
     ]
    },
    {
     "name": "stderr",
     "output_type": "stream",
     "text": [
      "<ipython-input-22-f2d8abc5f5d5>:503: RuntimeWarning: divide by zero encountered in log\n",
      "  prediction_comp =  fit_ccm[0] * np.log(ccm_class_comp) + fit_ccm[1]\n",
      "<ipython-input-22-f2d8abc5f5d5>:507: RuntimeWarning: invalid value encountered in double_scalars\n",
      "  adjustment = (prediction_main-prediction_comp) / prediction_comp\n",
      "<ipython-input-22-f2d8abc5f5d5>:503: RuntimeWarning: divide by zero encountered in log\n",
      "  prediction_comp =  fit_ccm[0] * np.log(ccm_class_comp) + fit_ccm[1]\n",
      "<ipython-input-22-f2d8abc5f5d5>:507: RuntimeWarning: invalid value encountered in double_scalars\n",
      "  adjustment = (prediction_main-prediction_comp) / prediction_comp\n",
      "<ipython-input-22-f2d8abc5f5d5>:503: RuntimeWarning: divide by zero encountered in log\n",
      "  prediction_comp =  fit_ccm[0] * np.log(ccm_class_comp) + fit_ccm[1]\n",
      "<ipython-input-22-f2d8abc5f5d5>:507: RuntimeWarning: invalid value encountered in double_scalars\n",
      "  adjustment = (prediction_main-prediction_comp) / prediction_comp\n"
     ]
    },
    {
     "name": "stdout",
     "output_type": "stream",
     "text": [
      "40\n"
     ]
    }
   ],
   "source": [
    "for i in range(1,41):\n",
    "    print(i)\n",
    "    modeling_results = pd.read_excel(\"C:\\\\Users\\\\1roks\\\\Documents\\\\FMF\\Matematika z računalnikom\\\\Project\\\\Data\\\\Modeling results\\\\Archive\\\\New_x0_\" + str(i) + \".xlsx\")\n",
    "    if i == 1:\n",
    "        Model_results_with_adj = add_adjustments(modeling_results)\n",
    "        df_out = pd.DataFrame(get_weights_results(Model_results_with_adj))\n",
    "    else:\n",
    "        Model_results_with_adj = add_adjustments(modeling_results)\n",
    "        df_out = df_out.append(get_weights_results(Model_results_with_adj))\n",
    "    \n",
    "df_out.to_excel(\"C:\\\\Users\\\\1roks\\\\Documents\\\\FMF\\Matematika z računalnikom\\\\Project\\\\Data\\\\Modeling results\\\\new_x0_calculated_results.xlsx\")"
   ]
  },
  {
   "cell_type": "code",
   "execution_count": 16,
   "metadata": {},
   "outputs": [
    {
     "name": "stdout",
     "output_type": "stream",
     "text": [
      "Model_no_adjustment_k_is_5_randomized_run_0.xlsx\n",
      "Model_no_adjustment_k_is_5_randomized_run_1.xlsx\n",
      "Model_no_adjustment_k_is_5_randomized_run_10.xlsx\n",
      "Model_no_adjustment_k_is_5_randomized_run_11.xlsx\n",
      "Model_no_adjustment_k_is_5_randomized_run_12.xlsx\n",
      "Model_no_adjustment_k_is_5_randomized_run_13.xlsx\n",
      "Model_no_adjustment_k_is_5_randomized_run_14.xlsx\n"
     ]
    },
    {
     "name": "stderr",
     "output_type": "stream",
     "text": [
      "<ipython-input-13-870f24b297b0>:510: RuntimeWarning: divide by zero encountered in log\n",
      "  prediction_comp =  fit_ccm[0] * np.log(ccm_class_comp) + fit_ccm[1]\n",
      "<ipython-input-13-870f24b297b0>:514: RuntimeWarning: invalid value encountered in double_scalars\n",
      "  adjustment = (prediction_main-prediction_comp) / prediction_comp\n",
      "<ipython-input-13-870f24b297b0>:510: RuntimeWarning: divide by zero encountered in log\n",
      "  prediction_comp =  fit_ccm[0] * np.log(ccm_class_comp) + fit_ccm[1]\n",
      "<ipython-input-13-870f24b297b0>:514: RuntimeWarning: invalid value encountered in double_scalars\n",
      "  adjustment = (prediction_main-prediction_comp) / prediction_comp\n",
      "<ipython-input-13-870f24b297b0>:510: RuntimeWarning: divide by zero encountered in log\n",
      "  prediction_comp =  fit_ccm[0] * np.log(ccm_class_comp) + fit_ccm[1]\n",
      "<ipython-input-13-870f24b297b0>:514: RuntimeWarning: invalid value encountered in double_scalars\n",
      "  adjustment = (prediction_main-prediction_comp) / prediction_comp\n",
      "<ipython-input-13-870f24b297b0>:510: RuntimeWarning: divide by zero encountered in log\n",
      "  prediction_comp =  fit_ccm[0] * np.log(ccm_class_comp) + fit_ccm[1]\n",
      "<ipython-input-13-870f24b297b0>:514: RuntimeWarning: invalid value encountered in double_scalars\n",
      "  adjustment = (prediction_main-prediction_comp) / prediction_comp\n"
     ]
    },
    {
     "name": "stdout",
     "output_type": "stream",
     "text": [
      "Model_no_adjustment_k_is_5_randomized_run_15.xlsx\n",
      "Model_no_adjustment_k_is_5_randomized_run_16.xlsx\n"
     ]
    },
    {
     "name": "stderr",
     "output_type": "stream",
     "text": [
      "<ipython-input-13-870f24b297b0>:510: RuntimeWarning: divide by zero encountered in log\n",
      "  prediction_comp =  fit_ccm[0] * np.log(ccm_class_comp) + fit_ccm[1]\n",
      "<ipython-input-13-870f24b297b0>:514: RuntimeWarning: invalid value encountered in double_scalars\n",
      "  adjustment = (prediction_main-prediction_comp) / prediction_comp\n"
     ]
    },
    {
     "name": "stdout",
     "output_type": "stream",
     "text": [
      "Model_no_adjustment_k_is_5_randomized_run_17.xlsx\n"
     ]
    },
    {
     "name": "stderr",
     "output_type": "stream",
     "text": [
      "<ipython-input-13-870f24b297b0>:510: RuntimeWarning: divide by zero encountered in log\n",
      "  prediction_comp =  fit_ccm[0] * np.log(ccm_class_comp) + fit_ccm[1]\n",
      "<ipython-input-13-870f24b297b0>:514: RuntimeWarning: invalid value encountered in double_scalars\n",
      "  adjustment = (prediction_main-prediction_comp) / prediction_comp\n"
     ]
    },
    {
     "name": "stdout",
     "output_type": "stream",
     "text": [
      "Model_no_adjustment_k_is_5_randomized_run_18.xlsx\n",
      "Model_no_adjustment_k_is_5_randomized_run_19.xlsx\n"
     ]
    },
    {
     "name": "stderr",
     "output_type": "stream",
     "text": [
      "<ipython-input-13-870f24b297b0>:510: RuntimeWarning: divide by zero encountered in log\n",
      "  prediction_comp =  fit_ccm[0] * np.log(ccm_class_comp) + fit_ccm[1]\n",
      "<ipython-input-13-870f24b297b0>:514: RuntimeWarning: invalid value encountered in double_scalars\n",
      "  adjustment = (prediction_main-prediction_comp) / prediction_comp\n"
     ]
    },
    {
     "name": "stdout",
     "output_type": "stream",
     "text": [
      "Model_no_adjustment_k_is_5_randomized_run_2.xlsx\n"
     ]
    },
    {
     "name": "stderr",
     "output_type": "stream",
     "text": [
      "<ipython-input-13-870f24b297b0>:510: RuntimeWarning: divide by zero encountered in log\n",
      "  prediction_comp =  fit_ccm[0] * np.log(ccm_class_comp) + fit_ccm[1]\n",
      "<ipython-input-13-870f24b297b0>:514: RuntimeWarning: invalid value encountered in double_scalars\n",
      "  adjustment = (prediction_main-prediction_comp) / prediction_comp\n",
      "<ipython-input-13-870f24b297b0>:510: RuntimeWarning: divide by zero encountered in log\n",
      "  prediction_comp =  fit_ccm[0] * np.log(ccm_class_comp) + fit_ccm[1]\n",
      "<ipython-input-13-870f24b297b0>:514: RuntimeWarning: invalid value encountered in double_scalars\n",
      "  adjustment = (prediction_main-prediction_comp) / prediction_comp\n",
      "<ipython-input-13-870f24b297b0>:510: RuntimeWarning: divide by zero encountered in log\n",
      "  prediction_comp =  fit_ccm[0] * np.log(ccm_class_comp) + fit_ccm[1]\n",
      "<ipython-input-13-870f24b297b0>:514: RuntimeWarning: invalid value encountered in double_scalars\n",
      "  adjustment = (prediction_main-prediction_comp) / prediction_comp\n",
      "<ipython-input-13-870f24b297b0>:510: RuntimeWarning: divide by zero encountered in log\n",
      "  prediction_comp =  fit_ccm[0] * np.log(ccm_class_comp) + fit_ccm[1]\n",
      "<ipython-input-13-870f24b297b0>:514: RuntimeWarning: invalid value encountered in double_scalars\n",
      "  adjustment = (prediction_main-prediction_comp) / prediction_comp\n"
     ]
    },
    {
     "name": "stdout",
     "output_type": "stream",
     "text": [
      "Model_no_adjustment_k_is_5_randomized_run_20.xlsx\n",
      "Model_no_adjustment_k_is_5_randomized_run_21.xlsx\n",
      "Model_no_adjustment_k_is_5_randomized_run_22.xlsx\n"
     ]
    },
    {
     "name": "stderr",
     "output_type": "stream",
     "text": [
      "<ipython-input-13-870f24b297b0>:510: RuntimeWarning: divide by zero encountered in log\n",
      "  prediction_comp =  fit_ccm[0] * np.log(ccm_class_comp) + fit_ccm[1]\n",
      "<ipython-input-13-870f24b297b0>:514: RuntimeWarning: invalid value encountered in double_scalars\n",
      "  adjustment = (prediction_main-prediction_comp) / prediction_comp\n",
      "<ipython-input-13-870f24b297b0>:510: RuntimeWarning: divide by zero encountered in log\n",
      "  prediction_comp =  fit_ccm[0] * np.log(ccm_class_comp) + fit_ccm[1]\n",
      "<ipython-input-13-870f24b297b0>:514: RuntimeWarning: invalid value encountered in double_scalars\n",
      "  adjustment = (prediction_main-prediction_comp) / prediction_comp\n",
      "<ipython-input-13-870f24b297b0>:510: RuntimeWarning: divide by zero encountered in log\n",
      "  prediction_comp =  fit_ccm[0] * np.log(ccm_class_comp) + fit_ccm[1]\n",
      "<ipython-input-13-870f24b297b0>:514: RuntimeWarning: invalid value encountered in double_scalars\n",
      "  adjustment = (prediction_main-prediction_comp) / prediction_comp\n"
     ]
    },
    {
     "name": "stdout",
     "output_type": "stream",
     "text": [
      "Model_no_adjustment_k_is_5_randomized_run_23.xlsx\n",
      "Model_no_adjustment_k_is_5_randomized_run_24.xlsx\n",
      "Model_no_adjustment_k_is_5_randomized_run_25.xlsx\n",
      "Model_no_adjustment_k_is_5_randomized_run_26.xlsx\n",
      "Model_no_adjustment_k_is_5_randomized_run_27.xlsx\n",
      "Model_no_adjustment_k_is_5_randomized_run_28.xlsx\n"
     ]
    },
    {
     "name": "stderr",
     "output_type": "stream",
     "text": [
      "<ipython-input-13-870f24b297b0>:510: RuntimeWarning: divide by zero encountered in log\n",
      "  prediction_comp =  fit_ccm[0] * np.log(ccm_class_comp) + fit_ccm[1]\n",
      "<ipython-input-13-870f24b297b0>:514: RuntimeWarning: invalid value encountered in double_scalars\n",
      "  adjustment = (prediction_main-prediction_comp) / prediction_comp\n"
     ]
    },
    {
     "name": "stdout",
     "output_type": "stream",
     "text": [
      "Model_no_adjustment_k_is_5_randomized_run_29.xlsx\n"
     ]
    },
    {
     "name": "stderr",
     "output_type": "stream",
     "text": [
      "<ipython-input-13-870f24b297b0>:510: RuntimeWarning: divide by zero encountered in log\n",
      "  prediction_comp =  fit_ccm[0] * np.log(ccm_class_comp) + fit_ccm[1]\n",
      "<ipython-input-13-870f24b297b0>:514: RuntimeWarning: invalid value encountered in double_scalars\n",
      "  adjustment = (prediction_main-prediction_comp) / prediction_comp\n"
     ]
    },
    {
     "name": "stdout",
     "output_type": "stream",
     "text": [
      "Model_no_adjustment_k_is_5_randomized_run_3.xlsx\n",
      "Model_no_adjustment_k_is_5_randomized_run_30.xlsx\n",
      "Model_no_adjustment_k_is_5_randomized_run_31.xlsx\n"
     ]
    },
    {
     "name": "stderr",
     "output_type": "stream",
     "text": [
      "<ipython-input-13-870f24b297b0>:510: RuntimeWarning: divide by zero encountered in log\n",
      "  prediction_comp =  fit_ccm[0] * np.log(ccm_class_comp) + fit_ccm[1]\n",
      "<ipython-input-13-870f24b297b0>:514: RuntimeWarning: invalid value encountered in double_scalars\n",
      "  adjustment = (prediction_main-prediction_comp) / prediction_comp\n"
     ]
    },
    {
     "name": "stdout",
     "output_type": "stream",
     "text": [
      "Model_no_adjustment_k_is_5_randomized_run_4.xlsx\n"
     ]
    },
    {
     "name": "stderr",
     "output_type": "stream",
     "text": [
      "<ipython-input-13-870f24b297b0>:510: RuntimeWarning: divide by zero encountered in log\n",
      "  prediction_comp =  fit_ccm[0] * np.log(ccm_class_comp) + fit_ccm[1]\n",
      "<ipython-input-13-870f24b297b0>:514: RuntimeWarning: invalid value encountered in double_scalars\n",
      "  adjustment = (prediction_main-prediction_comp) / prediction_comp\n"
     ]
    },
    {
     "name": "stdout",
     "output_type": "stream",
     "text": [
      "Model_no_adjustment_k_is_5_randomized_run_5.xlsx\n"
     ]
    },
    {
     "name": "stderr",
     "output_type": "stream",
     "text": [
      "<ipython-input-13-870f24b297b0>:510: RuntimeWarning: divide by zero encountered in log\n",
      "  prediction_comp =  fit_ccm[0] * np.log(ccm_class_comp) + fit_ccm[1]\n",
      "<ipython-input-13-870f24b297b0>:514: RuntimeWarning: invalid value encountered in double_scalars\n",
      "  adjustment = (prediction_main-prediction_comp) / prediction_comp\n"
     ]
    },
    {
     "name": "stdout",
     "output_type": "stream",
     "text": [
      "Model_no_adjustment_k_is_5_randomized_run_6.xlsx\n"
     ]
    },
    {
     "name": "stderr",
     "output_type": "stream",
     "text": [
      "<ipython-input-13-870f24b297b0>:510: RuntimeWarning: divide by zero encountered in log\n",
      "  prediction_comp =  fit_ccm[0] * np.log(ccm_class_comp) + fit_ccm[1]\n",
      "<ipython-input-13-870f24b297b0>:514: RuntimeWarning: invalid value encountered in double_scalars\n",
      "  adjustment = (prediction_main-prediction_comp) / prediction_comp\n",
      "<ipython-input-13-870f24b297b0>:510: RuntimeWarning: divide by zero encountered in log\n",
      "  prediction_comp =  fit_ccm[0] * np.log(ccm_class_comp) + fit_ccm[1]\n",
      "<ipython-input-13-870f24b297b0>:514: RuntimeWarning: invalid value encountered in double_scalars\n",
      "  adjustment = (prediction_main-prediction_comp) / prediction_comp\n",
      "<ipython-input-13-870f24b297b0>:510: RuntimeWarning: divide by zero encountered in log\n",
      "  prediction_comp =  fit_ccm[0] * np.log(ccm_class_comp) + fit_ccm[1]\n",
      "<ipython-input-13-870f24b297b0>:514: RuntimeWarning: invalid value encountered in double_scalars\n",
      "  adjustment = (prediction_main-prediction_comp) / prediction_comp\n"
     ]
    },
    {
     "name": "stdout",
     "output_type": "stream",
     "text": [
      "Model_no_adjustment_k_is_5_randomized_run_7.xlsx\n",
      "Model_no_adjustment_k_is_5_randomized_run_8.xlsx\n"
     ]
    },
    {
     "name": "stderr",
     "output_type": "stream",
     "text": [
      "<ipython-input-13-870f24b297b0>:510: RuntimeWarning: divide by zero encountered in log\n",
      "  prediction_comp =  fit_ccm[0] * np.log(ccm_class_comp) + fit_ccm[1]\n",
      "<ipython-input-13-870f24b297b0>:514: RuntimeWarning: invalid value encountered in double_scalars\n",
      "  adjustment = (prediction_main-prediction_comp) / prediction_comp\n",
      "<ipython-input-13-870f24b297b0>:510: RuntimeWarning: divide by zero encountered in log\n",
      "  prediction_comp =  fit_ccm[0] * np.log(ccm_class_comp) + fit_ccm[1]\n",
      "<ipython-input-13-870f24b297b0>:514: RuntimeWarning: invalid value encountered in double_scalars\n",
      "  adjustment = (prediction_main-prediction_comp) / prediction_comp\n",
      "<ipython-input-13-870f24b297b0>:510: RuntimeWarning: divide by zero encountered in log\n",
      "  prediction_comp =  fit_ccm[0] * np.log(ccm_class_comp) + fit_ccm[1]\n",
      "<ipython-input-13-870f24b297b0>:514: RuntimeWarning: invalid value encountered in double_scalars\n",
      "  adjustment = (prediction_main-prediction_comp) / prediction_comp\n",
      "<ipython-input-13-870f24b297b0>:510: RuntimeWarning: divide by zero encountered in log\n",
      "  prediction_comp =  fit_ccm[0] * np.log(ccm_class_comp) + fit_ccm[1]\n",
      "<ipython-input-13-870f24b297b0>:514: RuntimeWarning: invalid value encountered in double_scalars\n",
      "  adjustment = (prediction_main-prediction_comp) / prediction_comp\n",
      "<ipython-input-13-870f24b297b0>:510: RuntimeWarning: divide by zero encountered in log\n",
      "  prediction_comp =  fit_ccm[0] * np.log(ccm_class_comp) + fit_ccm[1]\n",
      "<ipython-input-13-870f24b297b0>:514: RuntimeWarning: invalid value encountered in double_scalars\n",
      "  adjustment = (prediction_main-prediction_comp) / prediction_comp\n"
     ]
    },
    {
     "name": "stdout",
     "output_type": "stream",
     "text": [
      "Model_no_adjustment_k_is_5_randomized_run_9.xlsx\n"
     ]
    }
   ],
   "source": [
    "mypath = \"C:\\\\Users\\\\1roks\\\\Documents\\\\FMF\\\\Matematika z računalnikom\\\\Project\\\\Data\\\\Modeling results\\\\\"\n",
    "\n",
    "\n",
    "from os import listdir\n",
    "from os.path import isfile, join\n",
    "onlyfiles = [f for f in listdir(mypath) if isfile(join(mypath, f))]\n",
    "k = 1\n",
    "\n",
    "for i in onlyfiles:\n",
    "    file_name = mypath + i\n",
    "    print(i)\n",
    "    modeling_results = pd.read_excel(file_name)\n",
    "    if k == 1:\n",
    "        Model_results_with_adj = add_adjustments(modeling_results)\n",
    "        df_out = pd.DataFrame(get_weights_results(Model_results_with_adj))\n",
    "    else:\n",
    "        Model_results_with_adj = add_adjustments(modeling_results)\n",
    "        df_out = df_out.append(get_weights_results(Model_results_with_adj))\n",
    "    k = 2\n",
    "df_out.to_excel(\"C:\\\\Users\\\\1roks\\\\Documents\\\\FMF\\Matematika z računalnikom\\\\Project\\\\Data\\\\Modeling results\\\\Results_v5.xlsx\")"
   ]
  },
  {
   "cell_type": "code",
   "execution_count": null,
   "metadata": {},
   "outputs": [],
   "source": []
  }
 ],
 "metadata": {
  "kernelspec": {
   "display_name": "Python 3",
   "language": "python",
   "name": "python3"
  },
  "language_info": {
   "codemirror_mode": {
    "name": "ipython",
    "version": 3
   },
   "file_extension": ".py",
   "mimetype": "text/x-python",
   "name": "python",
   "nbconvert_exporter": "python",
   "pygments_lexer": "ipython3",
   "version": "3.8.5"
  }
 },
 "nbformat": 4,
 "nbformat_minor": 4
}
